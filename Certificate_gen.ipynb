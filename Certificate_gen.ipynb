{
 "cells": [
  {
   "cell_type": "code",
   "execution_count": 25,
   "id": "7a7fc1d1-7e59-470c-82c0-f20cd3867189",
   "metadata": {
    "scrolled": true
   },
   "outputs": [
    {
     "name": "stdout",
     "output_type": "stream",
     "text": [
      "Requirement already satisfied: pandas in c:\\users\\saransh\\appdata\\local\\programs\\python\\python313\\lib\\site-packages (2.2.3)\n",
      "Requirement already satisfied: gspread in c:\\users\\saransh\\appdata\\local\\programs\\python\\python313\\lib\\site-packages (6.2.0)\n",
      "Requirement already satisfied: pillow in c:\\users\\saransh\\appdata\\local\\programs\\python\\python313\\lib\\site-packages (11.1.0)\n",
      "Requirement already satisfied: requests in c:\\users\\saransh\\appdata\\local\\programs\\python\\python313\\lib\\site-packages (2.32.3)\n",
      "Requirement already satisfied: numpy>=1.26.0 in c:\\users\\saransh\\appdata\\local\\programs\\python\\python313\\lib\\site-packages (from pandas) (2.2.4)\n",
      "Requirement already satisfied: python-dateutil>=2.8.2 in c:\\users\\saransh\\appdata\\local\\programs\\python\\python313\\lib\\site-packages (from pandas) (2.9.0.post0)\n",
      "Requirement already satisfied: pytz>=2020.1 in c:\\users\\saransh\\appdata\\local\\programs\\python\\python313\\lib\\site-packages (from pandas) (2025.2)\n",
      "Requirement already satisfied: tzdata>=2022.7 in c:\\users\\saransh\\appdata\\local\\programs\\python\\python313\\lib\\site-packages (from pandas) (2025.2)\n",
      "Requirement already satisfied: google-auth>=1.12.0 in c:\\users\\saransh\\appdata\\local\\programs\\python\\python313\\lib\\site-packages (from gspread) (2.38.0)\n",
      "Requirement already satisfied: google-auth-oauthlib>=0.4.1 in c:\\users\\saransh\\appdata\\local\\programs\\python\\python313\\lib\\site-packages (from gspread) (1.2.1)\n",
      "Requirement already satisfied: charset-normalizer<4,>=2 in c:\\users\\saransh\\appdata\\local\\programs\\python\\python313\\lib\\site-packages (from requests) (3.4.1)\n",
      "Requirement already satisfied: idna<4,>=2.5 in c:\\users\\saransh\\appdata\\local\\programs\\python\\python313\\lib\\site-packages (from requests) (3.10)\n",
      "Requirement already satisfied: urllib3<3,>=1.21.1 in c:\\users\\saransh\\appdata\\local\\programs\\python\\python313\\lib\\site-packages (from requests) (2.3.0)\n",
      "Requirement already satisfied: certifi>=2017.4.17 in c:\\users\\saransh\\appdata\\local\\programs\\python\\python313\\lib\\site-packages (from requests) (2025.1.31)\n",
      "Requirement already satisfied: cachetools<6.0,>=2.0.0 in c:\\users\\saransh\\appdata\\local\\programs\\python\\python313\\lib\\site-packages (from google-auth>=1.12.0->gspread) (5.5.2)\n",
      "Requirement already satisfied: pyasn1-modules>=0.2.1 in c:\\users\\saransh\\appdata\\local\\programs\\python\\python313\\lib\\site-packages (from google-auth>=1.12.0->gspread) (0.4.2)\n",
      "Requirement already satisfied: rsa<5,>=3.1.4 in c:\\users\\saransh\\appdata\\local\\programs\\python\\python313\\lib\\site-packages (from google-auth>=1.12.0->gspread) (4.9)\n",
      "Requirement already satisfied: requests-oauthlib>=0.7.0 in c:\\users\\saransh\\appdata\\local\\programs\\python\\python313\\lib\\site-packages (from google-auth-oauthlib>=0.4.1->gspread) (2.0.0)\n",
      "Requirement already satisfied: six>=1.5 in c:\\users\\saransh\\appdata\\local\\programs\\python\\python313\\lib\\site-packages (from python-dateutil>=2.8.2->pandas) (1.17.0)\n",
      "Requirement already satisfied: pyasn1<0.7.0,>=0.6.1 in c:\\users\\saransh\\appdata\\local\\programs\\python\\python313\\lib\\site-packages (from pyasn1-modules>=0.2.1->google-auth>=1.12.0->gspread) (0.6.1)\n",
      "Requirement already satisfied: oauthlib>=3.0.0 in c:\\users\\saransh\\appdata\\local\\programs\\python\\python313\\lib\\site-packages (from requests-oauthlib>=0.7.0->google-auth-oauthlib>=0.4.1->gspread) (3.2.2)\n",
      "Note: you may need to restart the kernel to use updated packages.\n"
     ]
    }
   ],
   "source": [
    "pip install pandas gspread pillow requests\n"
   ]
  },
  {
   "cell_type": "markdown",
   "id": "75b231f3-05a9-47f6-8f3c-b6e2b5d4926e",
   "metadata": {},
   "source": [
    "from PIL import Image, ImageTk\n",
    "import tkinter as tk\n",
    "\n",
    "# Load your certificate template\n",
    "TEMPLATE_PATH = \"certificate_template.png\"  # Ensure this file exists\n",
    "template = Image.open(TEMPLATE_PATH)\n",
    "\n",
    "# Create a window\n",
    "root = tk.Tk()\n",
    "root.title(\"Click on the Certificate to Set Name Position\")\n",
    "\n",
    "# Convert image to Tkinter format\n",
    "img = ImageTk.PhotoImage(template)\n",
    "label = tk.Label(root, image=img)\n",
    "label.pack()\n",
    "\n",
    "# Function to get X, Y coordinates on click\n",
    "def get_position(event):\n",
    "    print(f\"X: {event.x}, Y: {event.y}\")  # Print the clicked coordinates\n",
    "    root.destroy()  # Close window after clicking\n",
    "\n",
    "# Bind click event\n",
    "label.bind(\"<Button-1>\", get_position)\n",
    "\n",
    "# Run the Tkinter loop\n",
    "root.mainloop()\n"
   ]
  },
  {
   "cell_type": "code",
   "execution_count": 3,
   "id": "bbecda82-dd91-4f47-880b-12efb3840000",
   "metadata": {},
   "outputs": [
    {
     "name": "stdout",
     "output_type": "stream",
     "text": [
      "✅ 4 formatted names fetched from Google Sheets!\n",
      "✅ Certificate generated for: Amrit\n",
      "✅ Certificate generated for: Saransh\n",
      "✅ Certificate generated for: Ritul\n",
      "✅ Certificate generated for: Amber\n",
      "🎉 All certificates generated successfully!\n"
     ]
    }
   ],
   "source": [
    "import pandas as pd\n",
    "import requests\n",
    "from PIL import Image, ImageDraw, ImageFont\n",
    "import os\n",
    "import re\n",
    "\n",
    "# Google Sheet CSV link\n",
    "SHEET_URL = \"https://docs.google.com/spreadsheets/d/1Aw2Ne0sDSwpwi4BKRoHlt3ZMGesmWc8PLWD3CcfV1Bw/export?format=csv\"\n",
    "\n",
    "# Certificate template file\n",
    "TEMPLATE_PATH = \"certificate_template.png\"  # Ensure this file exists in your directory\n",
    "\n",
    "# Font file\n",
    "FONT_PATH = \"arial.ttf\"  # Change to your actual font file path\n",
    "FONT_SIZE = 80\n",
    "\n",
    "# Output folder\n",
    "OUTPUT_FOLDER = \"Generated_Certificates\"\n",
    "os.makedirs(OUTPUT_FOLDER, exist_ok=True)\n",
    "\n",
    "# Function to format names properly\n",
    "def format_name(name):\n",
    "    name = name.strip()  # Remove leading/trailing spaces\n",
    "    name = re.sub(r\"[^a-zA-Z.\\s]\", \"\", name)  # Allow letters, spaces, and dots (.)\n",
    "    name = re.sub(r\"\\s+\", \" \", name)  # Replace multiple spaces with a single space\n",
    "    return name.title()  # Capitalize first letter of each word\n",
    "\n",
    "# Fetch names from Google Sheets\n",
    "try:\n",
    "    df = pd.read_csv(SHEET_URL)\n",
    "    raw_names = df.iloc[:, 0].dropna().tolist()  # Read first column and remove empty values\n",
    "    names = [format_name(name) for name in raw_names]  # Apply formatting\n",
    "    print(f\"✅ {len(names)} formatted names fetched from Google Sheets!\")\n",
    "except Exception as e:\n",
    "    print(f\"❌ Error fetching Google Sheet: {e}\")\n",
    "    names = []\n",
    "\n",
    "# Load the certificate template\n",
    "try:\n",
    "    template = Image.open(TEMPLATE_PATH)\n",
    "    W, H = template.size\n",
    "except Exception as e:\n",
    "    print(f\"❌ Error loading template: {e}\")\n",
    "    exit()\n",
    "\n",
    "# Load font\n",
    "try:\n",
    "    font = ImageFont.truetype(FONT_PATH, FONT_SIZE)\n",
    "except Exception as e:\n",
    "    print(f\"❌ Error loading font: {e}\")\n",
    "    exit()\n",
    "\n",
    "# 🔹 Define the fixed X, Y position for the name\n",
    "NAME_POSITION = (742, 670)  # Adjust these values to place text correctly\n",
    "\n",
    "# Generate certificates for all names\n",
    "for name in names:\n",
    "    cert = template.copy()\n",
    "    draw = ImageDraw.Draw(cert)\n",
    "\n",
    "    # Auto-center the name horizontally\n",
    "    bbox = draw.textbbox((0, 0), name, font=font)\n",
    "    text_width = bbox[2] - bbox[0]\n",
    "    text_position = ((W - text_width) // 2, NAME_POSITION[1])  # Center horizontally, fixed Y\n",
    "\n",
    "    # Add the name to the certificate\n",
    "    text_color = (0, 0, 0)  # Black\n",
    "    draw.text(text_position, name, fill=text_color, font=font)\n",
    "\n",
    "    # Save as PDF\n",
    "    cert_path = os.path.join(OUTPUT_FOLDER, f\"{name}.pdf\")\n",
    "    cert.save(cert_path, \"PDF\")\n",
    "\n",
    "    print(f\"✅ Certificate generated for: {name}\")\n",
    "\n",
    "print(\"🎉 All certificates generated successfully!\")\n"
   ]
  },
  {
   "cell_type": "code",
   "execution_count": null,
   "id": "90edbcdb-6feb-437a-97eb-5713dd5c340a",
   "metadata": {},
   "outputs": [],
   "source": []
  },
  {
   "cell_type": "code",
   "execution_count": null,
   "id": "043fc3e9-5a12-42c0-be01-b2db4159f523",
   "metadata": {},
   "outputs": [],
   "source": []
  }
 ],
 "metadata": {
  "kernelspec": {
   "display_name": "Python 3 (ipykernel)",
   "language": "python",
   "name": "python3"
  },
  "language_info": {
   "codemirror_mode": {
    "name": "ipython",
    "version": 3
   },
   "file_extension": ".py",
   "mimetype": "text/x-python",
   "name": "python",
   "nbconvert_exporter": "python",
   "pygments_lexer": "ipython3",
   "version": "3.13.0"
  }
 },
 "nbformat": 4,
 "nbformat_minor": 5
}
